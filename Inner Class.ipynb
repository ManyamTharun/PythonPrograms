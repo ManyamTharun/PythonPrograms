{
 "cells": [
  {
   "cell_type": "code",
   "execution_count": 3,
   "id": "797801eb",
   "metadata": {},
   "outputs": [
    {
     "name": "stdout",
     "output_type": "stream",
     "text": [
      "Tharun 20\n",
      "Lenovo 8\n"
     ]
    }
   ],
   "source": [
    "# Outer Class\n",
    "class Student:\n",
    "    def __init__(self, name, age):\n",
    "        self.name = name\n",
    "        self.age = age\n",
    "        self.lap = self.Laptop()\n",
    "    def show(self):\n",
    "        print(self.name, self.age)\n",
    "    # Inner Class\n",
    "    class Laptop:\n",
    "        def __init__(self):\n",
    "            self.brand = \"Lenovo\"\n",
    "            self.ram = 8\n",
    "        def show(self):\n",
    "            print(self.brand, self.ram)\n",
    "# Outer Class Object\n",
    "s1 = Student(\"Tharun\", 20)\n",
    "s1.show()\n",
    "# Inner Class Object\n",
    "lap1 = s1.lap\n",
    "lap1.show()"
   ]
  },
  {
   "cell_type": "code",
   "execution_count": 4,
   "id": "54b6796f",
   "metadata": {},
   "outputs": [
    {
     "name": "stdout",
     "output_type": "stream",
     "text": [
      "Tharun 20\n",
      "Lenovo 8\n"
     ]
    }
   ],
   "source": [
    "class Student:\n",
    "    def __init__(self, name, age):\n",
    "        self.name = name\n",
    "        self.age = age\n",
    "    def show(self):\n",
    "        print(self.name, self.age)\n",
    "    class Laptop:\n",
    "        def __init__(self):\n",
    "            self.brand = \"Lenovo\"\n",
    "            self.ram = 8\n",
    "        def show(self):\n",
    "            print(self.brand, self.ram)\n",
    "s1 = Student(\"Tharun\", 20)\n",
    "s1.show()\n",
    "lap1 = Student.Laptop()\n",
    "lap1.show()"
   ]
  },
  {
   "cell_type": "code",
   "execution_count": null,
   "id": "5d2c29f0",
   "metadata": {},
   "outputs": [],
   "source": []
  },
  {
   "cell_type": "code",
   "execution_count": null,
   "id": "84e3b1b3",
   "metadata": {},
   "outputs": [],
   "source": []
  }
 ],
 "metadata": {
  "kernelspec": {
   "display_name": "Python 3 (ipykernel)",
   "language": "python",
   "name": "python3"
  },
  "language_info": {
   "codemirror_mode": {
    "name": "ipython",
    "version": 3
   },
   "file_extension": ".py",
   "mimetype": "text/x-python",
   "name": "python",
   "nbconvert_exporter": "python",
   "pygments_lexer": "ipython3",
   "version": "3.9.12"
  }
 },
 "nbformat": 4,
 "nbformat_minor": 5
}

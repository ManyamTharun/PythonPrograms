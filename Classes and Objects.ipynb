{
 "cells": [
  {
   "cell_type": "code",
   "execution_count": 4,
   "id": "9f9a105c",
   "metadata": {},
   "outputs": [
    {
     "name": "stdout",
     "output_type": "stream",
     "text": [
      "Manyam Tharun is studying in VEMU college in CSE branch\n",
      "Manyam Teja is studying in VIJAYAM college in BBA branch\n"
     ]
    }
   ],
   "source": [
    "# Class Creation\n",
    "class Student:\n",
    "    # Class Attributes\n",
    "    name = \"\"\n",
    "    college = \"\"\n",
    "    branch = \"\"\n",
    "# Object1 Creation\n",
    "s1 = Student()\n",
    "s1.name = \"Manyam Tharun\"\n",
    "s1.college = \"VEMU\"\n",
    "s1.branch = \"CSE\"\n",
    "# Object2 Creation\n",
    "s2 = Student()\n",
    "s2.name = \"Manyam Teja\"\n",
    "s2.college = \"VIJAYAM\"\n",
    "s2.branch = \"BBA\"\n",
    "# Accessing the attributes\n",
    "print(\"{} is studying in {} college in {} branch\".format(s1.name, s1.college, s1.branch))\n",
    "print(\"{} is studying in {} college in {} branch\".format(s2.name, s2.college, s2.branch))\n",
    "   \n",
    "\n",
    "\n",
    "    "
   ]
  },
  {
   "cell_type": "code",
   "execution_count": 5,
   "id": "799f93ef",
   "metadata": {},
   "outputs": [
    {
     "name": "stdout",
     "output_type": "stream",
     "text": [
      "Manyam Tharun is studying in VEMU college in CSE branch\n",
      "Manyam Teja is studying in VIJAYAM college in BBA branch\n"
     ]
    }
   ],
   "source": [
    "# Class Creation\n",
    "class Student:\n",
    "    # Constructor\n",
    "    def __init__(self, name, college, branch):\n",
    "        self.name = name\n",
    "        self.college = college\n",
    "        self.branch = branch\n",
    "    # Class Method\n",
    "    def display(self):\n",
    "        print(\"{} is studying in {} college in {} branch\".format(self.name, self.college, self.branch))\n",
    "# Objects Creation\n",
    "s1 = Student(\"Manyam Tharun\", \"VEMU\", \"CSE\")\n",
    "s2 = Student(\"Manyam Teja\", \"VIJAYAM\", \"BBA\")\n",
    "# Calling the display() method\n",
    "s1.display()\n",
    "s2.display()\n",
    "      \n",
    "    \n",
    "    "
   ]
  },
  {
   "cell_type": "code",
   "execution_count": null,
   "id": "9ce0dc30",
   "metadata": {},
   "outputs": [],
   "source": []
  }
 ],
 "metadata": {
  "kernelspec": {
   "display_name": "Python 3 (ipykernel)",
   "language": "python",
   "name": "python3"
  },
  "language_info": {
   "codemirror_mode": {
    "name": "ipython",
    "version": 3
   },
   "file_extension": ".py",
   "mimetype": "text/x-python",
   "name": "python",
   "nbconvert_exporter": "python",
   "pygments_lexer": "ipython3",
   "version": "3.9.12"
  }
 },
 "nbformat": 4,
 "nbformat_minor": 5
}

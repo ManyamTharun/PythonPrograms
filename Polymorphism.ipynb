{
 "cells": [
  {
   "cell_type": "markdown",
   "id": "63c55f34",
   "metadata": {},
   "source": [
    "## Polymorphism\n",
    "Polymorphism can be defined as a condition that occurs in many different forms.\n",
    "- Poly = Many\n",
    "- Morphism = Forms\n",
    "### Implementation of Polymorphism  in python\n",
    "In python polymorphism can be implemented using two ways.\n",
    "1. Overloading\n",
    "   1. Operator Overloading\n",
    "   2. Method Overloading\n",
    "2. Overriding\n",
    "   1. Method Overriding"
   ]
  },
  {
   "cell_type": "code",
   "execution_count": 9,
   "id": "f2830bc9",
   "metadata": {},
   "outputs": [
    {
     "name": "stdout",
     "output_type": "stream",
     "text": [
      "30\n",
      "Manyam Tharun\n"
     ]
    }
   ],
   "source": [
    "# Operator Overloading\n",
    "a = 10\n",
    "b = 20\n",
    "print(a+b)\n",
    "c = \"Manyam \"\n",
    "d = \"Tharun\"\n",
    "print(c+d)"
   ]
  },
  {
   "cell_type": "markdown",
   "id": "a732613b",
   "metadata": {},
   "source": [
    "### Method Overloading\n",
    "Two or more methods have the same name but different numbers of parameters or different types of parameters, or both. These methods are called overloaded methods and this is called method overloading. "
   ]
  },
  {
   "cell_type": "code",
   "execution_count": 7,
   "id": "0f58b7cd",
   "metadata": {},
   "outputs": [
    {
     "name": "stdout",
     "output_type": "stream",
     "text": [
      "1\n",
      "5\n"
     ]
    }
   ],
   "source": [
    "# Method Overloading\n",
    "class Calculator:\n",
    "    def sum(self,a=None,b=None,c=None):\n",
    "        if a!=None and b!=None  and c!=None:\n",
    "            s = a+b+c\n",
    "        elif a!=None and b!=None:\n",
    "            s = a+b\n",
    "        else:\n",
    "            s = a\n",
    "        print(s)\n",
    "s1 = Calculator()\n",
    "s1.sum(1)\n",
    "s1.sum(2,3)"
   ]
  },
  {
   "cell_type": "code",
   "execution_count": 16,
   "id": "ecbf57bb",
   "metadata": {},
   "outputs": [
    {
     "name": "stdout",
     "output_type": "stream",
     "text": [
      "40\n"
     ]
    }
   ],
   "source": [
    "# Method Overloading\n",
    "def product(a,b):\n",
    "    print(a*b)\n",
    "def product(a, b, c):\n",
    "    print(a*b*c)\n",
    "product(2,4,5)"
   ]
  },
  {
   "cell_type": "markdown",
   "id": "d3a87a63",
   "metadata": {},
   "source": [
    "### Method Overriding\n",
    "If there are two methods with same names, one is in super class and the other is in sub class. The super class's method is overrided with sub class's method while calling sub class method.This is called method overriding."
   ]
  },
  {
   "cell_type": "code",
   "execution_count": 17,
   "id": "4cb69265",
   "metadata": {},
   "outputs": [
    {
     "name": "stdout",
     "output_type": "stream",
     "text": [
      "I am in class A\n",
      "I am in class B\n"
     ]
    }
   ],
   "source": [
    "# Method Overriding\n",
    "class A:\n",
    "    def f1(self):\n",
    "        print(\"I am in class A\")\n",
    "class B(A):\n",
    "    def f1(self):\n",
    "        print(\"I am in class B\")\n",
    "a1 = A()\n",
    "b1 = B()\n",
    "a1.f1()\n",
    "# Method Overriding took place\n",
    "b1.f1()"
   ]
  },
  {
   "cell_type": "code",
   "execution_count": 21,
   "id": "8598101a",
   "metadata": {},
   "outputs": [
    {
     "name": "stdout",
     "output_type": "stream",
     "text": [
      "45\n",
      "Manyam Tharun\n",
      "45 Manyam Tharun\n",
      "6\n",
      "4\n"
     ]
    }
   ],
   "source": [
    "# Polymorphism in Built in functions\n",
    "print(45)\n",
    "print(\"Manyam Tharun\")\n",
    "print(45, \"Manyam Tharun\")\n",
    "print(len(\"Python\"))\n",
    "print(len([2,3,4,6]))"
   ]
  },
  {
   "cell_type": "code",
   "execution_count": 4,
   "id": "58623063",
   "metadata": {},
   "outputs": [
    {
     "name": "stdout",
     "output_type": "stream",
     "text": [
      "30\n",
      "45\n"
     ]
    }
   ],
   "source": [
    "# Polymorphism in user defined functions\n",
    "def product(a,b,c=1):\n",
    "    print(a*b*c)\n",
    "product(3,5,2)\n",
    "product(5,9)"
   ]
  },
  {
   "cell_type": "markdown",
   "id": "764a25bc",
   "metadata": {},
   "source": [
    "## Types of Polymorphism\n",
    "1. Compile Time or Static Polymorphism\n",
    "   - Operator Overloading\n",
    "   - Method Overloading\n",
    "2. Runtime or Dynamic Polymorphism\n",
    "   - Method Overriding"
   ]
  },
  {
   "cell_type": "markdown",
   "id": "4161b75d",
   "metadata": {},
   "source": [
    "### Reference Video\n",
    "[Polymorphism](https://youtu.be/djcVqD92Ijg?si=gdSiAxpzDPdRnDVX)\n",
    "\n",
    "\n",
    "[Method Overloading & Method Overriding](https://youtu.be/CcTzTuIsoFk?si=IEHzL_Zvxk7icR-i)"
   ]
  },
  {
   "cell_type": "code",
   "execution_count": null,
   "id": "5ad8da30",
   "metadata": {},
   "outputs": [],
   "source": []
  }
 ],
 "metadata": {
  "kernelspec": {
   "display_name": "Python 3 (ipykernel)",
   "language": "python",
   "name": "python3"
  },
  "language_info": {
   "codemirror_mode": {
    "name": "ipython",
    "version": 3
   },
   "file_extension": ".py",
   "mimetype": "text/x-python",
   "name": "python",
   "nbconvert_exporter": "python",
   "pygments_lexer": "ipython3",
   "version": "3.9.12"
  }
 },
 "nbformat": 4,
 "nbformat_minor": 5
}

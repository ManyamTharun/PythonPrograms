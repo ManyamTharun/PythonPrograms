{
 "cells": [
  {
   "cell_type": "markdown",
   "id": "10ce22d3",
   "metadata": {},
   "source": [
    "## Polymorphism\n",
    "Polymorphism can be defined as a condition that occurs in many different forms.\n",
    "- Poly = Many\n",
    "- Morphism = Forms\n",
    "### Implementation of Polymorphism  in python\n",
    "In python polymorphism can be implemented using two ways.\n",
    "1. Overloading\n",
    "   1. Operator Overloading\n",
    "   2. Method Overloading\n",
    "2. Overriding\n",
    "   1. Method Overriding"
   ]
  },
  {
   "cell_type": "code",
   "execution_count": 9,
   "id": "40c5bf07",
   "metadata": {},
   "outputs": [
    {
     "name": "stdout",
     "output_type": "stream",
     "text": [
      "30\n",
      "Manyam Tharun\n"
     ]
    }
   ],
   "source": [
    "# Operator Overloading\n",
    "a = 10\n",
    "b = 20\n",
    "print(a+b)\n",
    "c = \"Manyam \"\n",
    "d = \"Tharun\"\n",
    "print(c+d)"
   ]
  },
  {
   "cell_type": "markdown",
   "id": "a28d7f12",
   "metadata": {},
   "source": [
    "### Method Overloading\n",
    "Two or more methods have the same name but different numbers of parameters or different types of parameters, or both. These methods are called overloaded methods and this is called method overloading. "
   ]
  },
  {
   "cell_type": "code",
   "execution_count": 19,
   "id": "29a51e63",
   "metadata": {},
   "outputs": [
    {
     "name": "stdout",
     "output_type": "stream",
     "text": [
      "9\n",
      "Manyam Tharun\n"
     ]
    }
   ],
   "source": [
    "# Method Overloading\n",
    "class A:\n",
    "    def add(self,a,b):\n",
    "        print(a+b)\n",
    "class B:\n",
    "    def add(self,a,b):\n",
    "        print(a+b)\n",
    "a1 = A()\n",
    "b1 = B()\n",
    "a1.add(4,5)\n",
    "b1.add(\"Manyam \", \"Tharun\")"
   ]
  },
  {
   "cell_type": "code",
   "execution_count": 16,
   "id": "9d44b97f",
   "metadata": {},
   "outputs": [
    {
     "name": "stdout",
     "output_type": "stream",
     "text": [
      "40\n"
     ]
    }
   ],
   "source": [
    "# Method Overloading\n",
    "def product(a,b):\n",
    "    print(a*b)\n",
    "def product(a, b, c):\n",
    "    print(a*b*c)\n",
    "product(2,4,5)"
   ]
  },
  {
   "cell_type": "markdown",
   "id": "5c4c7e5a",
   "metadata": {},
   "source": [
    "### Method Overriding\n",
    "If there are two methods with same names, one is in super class and the other is in sub class. The super class's method is overrided with sub class's method while calling sub class method.This is called method overriding."
   ]
  },
  {
   "cell_type": "code",
   "execution_count": 17,
   "id": "38146b70",
   "metadata": {},
   "outputs": [
    {
     "name": "stdout",
     "output_type": "stream",
     "text": [
      "I am in class A\n",
      "I am in class B\n"
     ]
    }
   ],
   "source": [
    "# Method Overriding\n",
    "class A:\n",
    "    def f1(self):\n",
    "        print(\"I am in class A\")\n",
    "class B(A):\n",
    "    def f1(self):\n",
    "        print(\"I am in class B\")\n",
    "a1 = A()\n",
    "b1 = B()\n",
    "a1.f1()\n",
    "# Method Overriding took place\n",
    "b1.f1()"
   ]
  },
  {
   "cell_type": "code",
   "execution_count": 21,
   "id": "4d000be2",
   "metadata": {},
   "outputs": [
    {
     "name": "stdout",
     "output_type": "stream",
     "text": [
      "45\n",
      "Manyam Tharun\n",
      "45 Manyam Tharun\n",
      "6\n",
      "4\n"
     ]
    }
   ],
   "source": [
    "# Polymorphism in Built in functions\n",
    "print(45)\n",
    "print(\"Manyam Tharun\")\n",
    "print(45, \"Manyam Tharun\")\n",
    "print(len(\"Python\"))\n",
    "print(len([2,3,4,6]))"
   ]
  },
  {
   "cell_type": "code",
   "execution_count": 4,
   "id": "547e5e3f",
   "metadata": {},
   "outputs": [
    {
     "name": "stdout",
     "output_type": "stream",
     "text": [
      "30\n",
      "45\n"
     ]
    }
   ],
   "source": [
    "# Polymorphism in user defined functions\n",
    "def product(a,b,c=1):\n",
    "    print(a*b*c)\n",
    "product(3,5,2)\n",
    "product(5,9)"
   ]
  },
  {
   "cell_type": "markdown",
   "id": "c6bc38a3",
   "metadata": {},
   "source": [
    "## Types of Polymorphism\n",
    "1. Compile Time or Static Polymorphism\n",
    "   - Operator Overloading\n",
    "   - Method Overloading\n",
    "2. Runtime or Dynamic Polymorphism\n",
    "   - Method Overriding"
   ]
  },
  {
   "cell_type": "code",
   "execution_count": null,
   "id": "d4dd3c4d",
   "metadata": {},
   "outputs": [],
   "source": []
  }
 ],
 "metadata": {
  "kernelspec": {
   "display_name": "Python 3 (ipykernel)",
   "language": "python",
   "name": "python3"
  },
  "language_info": {
   "codemirror_mode": {
    "name": "ipython",
    "version": 3
   },
   "file_extension": ".py",
   "mimetype": "text/x-python",
   "name": "python",
   "nbconvert_exporter": "python",
   "pygments_lexer": "ipython3",
   "version": "3.9.12"
  }
 },
 "nbformat": 4,
 "nbformat_minor": 5
}

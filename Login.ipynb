{
 "cells": [
  {
   "cell_type": "code",
   "execution_count": null,
   "id": "d4962c9b",
   "metadata": {},
   "outputs": [],
   "source": [
    "user_id = input(\"Enter your user id: \")\n",
    "if user_id == \"ManyamTharun\":\n",
    "    password = input(\"Enter your password: \")\n",
    "    if password == \"Tharun1985\":\n",
    "        print(\"Login Successfull\")\n",
    "    else:\n",
    "        print(\"Wrong Password\")\n",
    "else:\n",
    "    print(\"Wrong User Id\")"
   ]
  }
 ],
 "metadata": {
  "kernelspec": {
   "display_name": "Python 3 (ipykernel)",
   "language": "python",
   "name": "python3"
  },
  "language_info": {
   "codemirror_mode": {
    "name": "ipython",
    "version": 3
   },
   "file_extension": ".py",
   "mimetype": "text/x-python",
   "name": "python",
   "nbconvert_exporter": "python",
   "pygments_lexer": "ipython3",
   "version": "3.9.12"
  }
 },
 "nbformat": 4,
 "nbformat_minor": 5
}
